{
 "cells": [
  {
   "cell_type": "code",
   "execution_count": 35,
   "metadata": {},
   "outputs": [],
   "source": [
    "import org.apache.spark.sql.functions._"
   ]
  },
  {
   "cell_type": "code",
   "execution_count": 17,
   "metadata": {},
   "outputs": [],
   "source": [
    "val players = spark.read.format(\"csv\").option(\"header\",\"true\").load(\"/Users/pulkit/data/player.csv\")"
   ]
  },
  {
   "cell_type": "code",
   "execution_count": 18,
   "metadata": {},
   "outputs": [
    {
     "name": "stdout",
     "output_type": "stream",
     "text": [
      "root\n",
      " |-- id: string (nullable = true)\n",
      " |-- player_api_id: string (nullable = true)\n",
      " |-- player_name: string (nullable = true)\n",
      " |-- player_fifa_api_id: string (nullable = true)\n",
      " |-- birthday: string (nullable = true)\n",
      " |-- height: string (nullable = true)\n",
      " |-- weight: string (nullable = true)\n",
      "\n"
     ]
    }
   ],
   "source": [
    "players.printSchema"
   ]
  },
  {
   "cell_type": "code",
   "execution_count": 19,
   "metadata": {},
   "outputs": [
    {
     "name": "stdout",
     "output_type": "stream",
     "text": [
      "+---+-------------+------------------+------------------+-------------------+------+------+\n",
      "| id|player_api_id|       player_name|player_fifa_api_id|           birthday|height|weight|\n",
      "+---+-------------+------------------+------------------+-------------------+------+------+\n",
      "|  1|       505942|Aaron Appindangoye|            218353|1992-02-29 00:00:00|182.88|   187|\n",
      "|  2|       155782|   Aaron Cresswell|            189615|1989-12-15 00:00:00|170.18|   146|\n",
      "|  3|       162549|       Aaron Doran|            186170|1991-05-13 00:00:00|170.18|   163|\n",
      "|  4|        30572|     Aaron Galindo|            140161|1982-05-08 00:00:00|182.88|   198|\n",
      "|  5|        23780|      Aaron Hughes|             17725|1979-11-08 00:00:00|182.88|   154|\n",
      "+---+-------------+------------------+------------------+-------------------+------+------+\n",
      "only showing top 5 rows\n",
      "\n"
     ]
    }
   ],
   "source": [
    "players.show(5)"
   ]
  },
  {
   "cell_type": "code",
   "execution_count": 11,
   "metadata": {},
   "outputs": [],
   "source": [
    "val playerAttributes = spark.read.format(\"csv\").option(\"header\",\"true\").load(\"/Users/pulkit/data/Player_Attributes.csv\")"
   ]
  },
  {
   "cell_type": "code",
   "execution_count": 12,
   "metadata": {},
   "outputs": [
    {
     "name": "stdout",
     "output_type": "stream",
     "text": [
      "root\n",
      " |-- id: string (nullable = true)\n",
      " |-- player_fifa_api_id: string (nullable = true)\n",
      " |-- player_api_id: string (nullable = true)\n",
      " |-- date: string (nullable = true)\n",
      " |-- overall_rating: string (nullable = true)\n",
      " |-- potential: string (nullable = true)\n",
      " |-- preferred_foot: string (nullable = true)\n",
      " |-- attacking_work_rate: string (nullable = true)\n",
      " |-- defensive_work_rate: string (nullable = true)\n",
      " |-- crossing: string (nullable = true)\n",
      " |-- finishing: string (nullable = true)\n",
      " |-- heading_accuracy: string (nullable = true)\n",
      " |-- short_passing: string (nullable = true)\n",
      " |-- volleys: string (nullable = true)\n",
      " |-- dribbling: string (nullable = true)\n",
      " |-- curve: string (nullable = true)\n",
      " |-- free_kick_accuracy: string (nullable = true)\n",
      " |-- long_passing: string (nullable = true)\n",
      " |-- ball_control: string (nullable = true)\n",
      " |-- acceleration: string (nullable = true)\n",
      " |-- sprint_speed: string (nullable = true)\n",
      " |-- agility: string (nullable = true)\n",
      " |-- reactions: string (nullable = true)\n",
      " |-- balance: string (nullable = true)\n",
      " |-- shot_power: string (nullable = true)\n",
      " |-- jumping: string (nullable = true)\n",
      " |-- stamina: string (nullable = true)\n",
      " |-- strength: string (nullable = true)\n",
      " |-- long_shots: string (nullable = true)\n",
      " |-- aggression: string (nullable = true)\n",
      " |-- interceptions: string (nullable = true)\n",
      " |-- positioning: string (nullable = true)\n",
      " |-- vision: string (nullable = true)\n",
      " |-- penalties: string (nullable = true)\n",
      " |-- marking: string (nullable = true)\n",
      " |-- standing_tackle: string (nullable = true)\n",
      " |-- sliding_tackle: string (nullable = true)\n",
      " |-- gk_diving: string (nullable = true)\n",
      " |-- gk_handling: string (nullable = true)\n",
      " |-- gk_kicking: string (nullable = true)\n",
      " |-- gk_positioning: string (nullable = true)\n",
      " |-- gk_reflexes: string (nullable = true)\n",
      "\n"
     ]
    }
   ],
   "source": [
    "playerAttributes.printSchema"
   ]
  },
  {
   "cell_type": "code",
   "execution_count": 25,
   "metadata": {},
   "outputs": [
    {
     "data": {
      "text/plain": [
       "Name: Compile Error\n",
       "Message: <console>:21: error: value dropna is not a member of org.apache.spark.sql.DataFrame\n",
       "       val playersd = players.drop(\"id\",\"player_fifa_api_id\").dropna()\n",
       "                                                              ^\n",
       "StackTrace: "
      ]
     },
     "execution_count": 25,
     "metadata": {},
     "output_type": "execute_result"
    }
   ],
   "source": [
    "val playersd = players.drop(\"id\",\"player_fifa_api_id\")\n",
    "playersd.columns"
   ]
  },
  {
   "cell_type": "code",
   "execution_count": 27,
   "metadata": {},
   "outputs": [],
   "source": [
    "val playerAttributesd = playerAttributes.drop(\n",
    "\"id\",\n",
    "\"player_fifa_api_id\",\n",
    "\"preferred_foot\",\n",
    "\"attacking_work_rate\",\n",
    "\"defensive_work_rate\",\n",
    "\"crossing\",\n",
    "\"crossing\",\n",
    "\"jumping\",\"aggression\",\"balance\",\"sprint_speed\",\"potential\",\"short_passing\")"
   ]
  },
  {
   "cell_type": "code",
   "execution_count": 32,
   "metadata": {},
   "outputs": [],
   "source": [
    "val playerAttributesdna = playerAttributesd.na.drop(\"all\")\n",
    "val playersna = playersd.na.drop(\"all\")"
   ]
  },
  {
   "cell_type": "code",
   "execution_count": 33,
   "metadata": {},
   "outputs": [
    {
     "name": "stdout",
     "output_type": "stream",
     "text": [
      "+-------------+-------------------+--------------+---------+----------------+-------+---------+-----+------------------+------------+------------+------------+-------+---------+----------+-------+--------+----------+-------------+-----------+------+---------+-------+---------------+--------------+---------+-----------+----------+--------------+-----------+\n",
      "|player_api_id|               date|overall_rating|finishing|heading_accuracy|volleys|dribbling|curve|free_kick_accuracy|long_passing|ball_control|acceleration|agility|reactions|shot_power|stamina|strength|long_shots|interceptions|positioning|vision|penalties|marking|standing_tackle|sliding_tackle|gk_diving|gk_handling|gk_kicking|gk_positioning|gk_reflexes|\n",
      "+-------------+-------------------+--------------+---------+----------------+-------+---------+-----+------------------+------------+------------+------------+-------+---------+----------+-------+--------+----------+-------------+-----------+------+---------+-------+---------------+--------------+---------+-----------+----------+--------------+-----------+\n",
      "|       505942|2016-02-18 00:00:00|            67|       44|              71|     44|       51|   45|                39|          64|          49|          60|     59|       47|        55|     54|      76|        35|           70|         45|    54|       48|     65|             69|            69|        6|         11|        10|             8|          8|\n",
      "|       505942|2015-11-19 00:00:00|            67|       44|              71|     44|       51|   45|                39|          64|          49|          60|     59|       47|        55|     54|      76|        35|           70|         45|    54|       48|     65|             69|            69|        6|         11|        10|             8|          8|\n",
      "|       505942|2015-09-21 00:00:00|            62|       44|              71|     44|       51|   45|                39|          64|          49|          60|     59|       47|        55|     54|      76|        35|           41|         45|    54|       48|     65|             66|            69|        6|         11|        10|             8|          8|\n",
      "|       505942|2015-03-20 00:00:00|            61|       43|              70|     43|       50|   44|                38|          63|          48|          60|     59|       46|        54|     54|      76|        34|           40|         44|    53|       47|     62|             63|            66|        5|         10|         9|             7|          7|\n",
      "+-------------+-------------------+--------------+---------+----------------+-------+---------+-----+------------------+------------+------------+------------+-------+---------+----------+-------+--------+----------+-------------+-----------+------+---------+-------+---------------+--------------+---------+-----------+----------+--------------+-----------+\n",
      "only showing top 4 rows\n",
      "\n"
     ]
    }
   ],
   "source": [
    "playerAttributesdna.show(4)"
   ]
  },
  {
   "cell_type": "code",
   "execution_count": 53,
   "metadata": {},
   "outputs": [],
   "source": [
    "val sp: String => Int = _.split(\"-\")(0).toInt\n",
    "\n",
    "val yearExtractUDF = udf(sp)"
   ]
  },
  {
   "cell_type": "code",
   "execution_count": 54,
   "metadata": {},
   "outputs": [],
   "source": [
    "val playerAttributesdnay = playerAttributesdna.withColumn(\"year\",yearExtractUDF(col(\"date\"))).drop(\"date\")"
   ]
  },
  {
   "cell_type": "code",
   "execution_count": 55,
   "metadata": {},
   "outputs": [
    {
     "name": "stdout",
     "output_type": "stream",
     "text": [
      "+-------------+--------------+---------+----------------+-------+---------+-----+------------------+------------+------------+------------+-------+---------+----------+-------+--------+----------+-------------+-----------+------+---------+-------+---------------+--------------+---------+-----------+----------+--------------+-----------+----+\n",
      "|player_api_id|overall_rating|finishing|heading_accuracy|volleys|dribbling|curve|free_kick_accuracy|long_passing|ball_control|acceleration|agility|reactions|shot_power|stamina|strength|long_shots|interceptions|positioning|vision|penalties|marking|standing_tackle|sliding_tackle|gk_diving|gk_handling|gk_kicking|gk_positioning|gk_reflexes|year|\n",
      "+-------------+--------------+---------+----------------+-------+---------+-----+------------------+------------+------------+------------+-------+---------+----------+-------+--------+----------+-------------+-----------+------+---------+-------+---------------+--------------+---------+-----------+----------+--------------+-----------+----+\n",
      "|       505942|            67|       44|              71|     44|       51|   45|                39|          64|          49|          60|     59|       47|        55|     54|      76|        35|           70|         45|    54|       48|     65|             69|            69|        6|         11|        10|             8|          8|2016|\n",
      "|       505942|            67|       44|              71|     44|       51|   45|                39|          64|          49|          60|     59|       47|        55|     54|      76|        35|           70|         45|    54|       48|     65|             69|            69|        6|         11|        10|             8|          8|2015|\n",
      "|       505942|            62|       44|              71|     44|       51|   45|                39|          64|          49|          60|     59|       47|        55|     54|      76|        35|           41|         45|    54|       48|     65|             66|            69|        6|         11|        10|             8|          8|2015|\n",
      "|       505942|            61|       43|              70|     43|       50|   44|                38|          63|          48|          60|     59|       46|        54|     54|      76|        34|           40|         44|    53|       47|     62|             63|            66|        5|         10|         9|             7|          7|2015|\n",
      "+-------------+--------------+---------+----------------+-------+---------+-----+------------------+------------+------------+------------+-------+---------+----------+-------+--------+----------+-------------+-----------+------+---------+-------+---------------+--------------+---------+-----------+----------+--------------+-----------+----+\n",
      "only showing top 4 rows\n",
      "\n"
     ]
    }
   ],
   "source": [
    "playerAttributesdnay.show(4)"
   ]
  },
  {
   "cell_type": "code",
   "execution_count": 59,
   "metadata": {},
   "outputs": [],
   "source": [
    "val pa2016 = playerAttributesdnay.where(col(\"year\") ===2016)"
   ]
  },
  {
   "cell_type": "code",
   "execution_count": 60,
   "metadata": {},
   "outputs": [
    {
     "data": {
      "text/plain": [
       "14103"
      ]
     },
     "execution_count": 60,
     "metadata": {},
     "output_type": "execute_result"
    }
   ],
   "source": [
    "pa2016.count()"
   ]
  },
  {
   "cell_type": "code",
   "execution_count": 61,
   "metadata": {},
   "outputs": [
    {
     "data": {
      "text/plain": [
       "5586"
      ]
     },
     "execution_count": 61,
     "metadata": {},
     "output_type": "execute_result"
    }
   ],
   "source": [
    "pa2016.select(\"player_api_id\").distinct().count()"
   ]
  },
  {
   "cell_type": "code",
   "execution_count": 62,
   "metadata": {},
   "outputs": [],
   "source": [
    "val paStriker2016 = pa2016.groupBy(\"player_api_id\").\n",
    "                            agg(avg(\"finishing\"), avg(\"shot_power\"),avg(\"acceleration\"))"
   ]
  },
  {
   "cell_type": "code",
   "execution_count": 63,
   "metadata": {},
   "outputs": [
    {
     "data": {
      "text/plain": [
       "5586"
      ]
     },
     "execution_count": 63,
     "metadata": {},
     "output_type": "execute_result"
    }
   ],
   "source": [
    "paStriker2016.count()"
   ]
  },
  {
   "cell_type": "code",
   "execution_count": 64,
   "metadata": {},
   "outputs": [
    {
     "name": "stdout",
     "output_type": "stream",
     "text": [
      "+-------------+-----------------+---------------+-----------------+\n",
      "|player_api_id|   avg(finishing)|avg(shot_power)|avg(acceleration)|\n",
      "+-------------+-----------------+---------------+-----------------+\n",
      "|       309726|75.44444444444444|           76.0|74.11111111111111|\n",
      "|        26112|             53.0|           76.0|             51.0|\n",
      "|        38433|            68.25|           74.0|             74.0|\n",
      "|       295060|             25.0|           40.0|             62.0|\n",
      "|       161396|             29.0|           69.0|             72.0|\n",
      "+-------------+-----------------+---------------+-----------------+\n",
      "only showing top 5 rows\n",
      "\n"
     ]
    }
   ],
   "source": [
    "paStriker2016.show(5)"
   ]
  },
  {
   "cell_type": "code",
   "execution_count": 75,
   "metadata": {},
   "outputs": [
    {
     "data": {
      "text/plain": [
       "4"
      ]
     },
     "execution_count": 75,
     "metadata": {},
     "output_type": "execute_result"
    }
   ],
   "source": [
    "val weight_f : Int = 1\n",
    "val weight_s : Int = 2\n",
    "val weight_a  : Int = 1\n",
    "val totalWeight : Int = weight_f + weight_s + weight_a\n",
    "totalWeight"
   ]
  },
  {
   "cell_type": "code",
   "execution_count": 83,
   "metadata": {},
   "outputs": [],
   "source": [
    "val strikers = paStriker2016.withColumn(\"strikerGrade\", col(\"avg(finishing)\") +\n",
    "                                        col(\"avg(shot_power)\") * weight_s +\n",
    "                                        col(\"avg(acceleration)\") * weight_a / totalWeight)"
   ]
  },
  {
   "cell_type": "code",
   "execution_count": 88,
   "metadata": {},
   "outputs": [],
   "source": [
    "val strikera = strikers.drop(\"avg(finishing)\",\"avg(shot_power)\",\"avg(acceleration)\")"
   ]
  },
  {
   "cell_type": "code",
   "execution_count": 89,
   "metadata": {},
   "outputs": [
    {
     "name": "stdout",
     "output_type": "stream",
     "text": [
      "+-------------+------------------+\n",
      "|player_api_id|      strikerGrade|\n",
      "+-------------+------------------+\n",
      "|       309726|245.97222222222223|\n",
      "|        26112|            217.75|\n",
      "|        38433|            234.75|\n",
      "|       295060|             120.5|\n",
      "|       161396|             185.0|\n",
      "|        37774|             213.0|\n",
      "|        41157|            262.75|\n",
      "|        40740|           226.375|\n",
      "|        31432|            158.75|\n",
      "|       109653|            245.25|\n",
      "|       282680|             68.25|\n",
      "|       210428|            146.25|\n",
      "|       190851|             241.5|\n",
      "|       419238|148.00000000000003|\n",
      "|       664587|             198.5|\n",
      "|       239352|            211.75|\n",
      "|       190801|          191.9375|\n",
      "|       196957|236.33333333333334|\n",
      "|       173922|             216.5|\n",
      "|       121080|             132.0|\n",
      "+-------------+------------------+\n",
      "only showing top 20 rows\n",
      "\n"
     ]
    }
   ],
   "source": [
    "strikera.show"
   ]
  },
  {
   "cell_type": "code",
   "execution_count": null,
   "metadata": {},
   "outputs": [],
   "source": []
  }
 ],
 "metadata": {
  "kernelspec": {
   "display_name": "Apache Toree - Scala",
   "language": "scala",
   "name": "apache_toree_scala"
  },
  "language_info": {
   "file_extension": ".scala",
   "name": "scala",
   "version": "2.11.8"
  }
 },
 "nbformat": 4,
 "nbformat_minor": 2
}
