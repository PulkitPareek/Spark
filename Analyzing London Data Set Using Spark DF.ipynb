{
 "cells": [
  {
   "cell_type": "code",
   "execution_count": 163,
   "metadata": {},
   "outputs": [],
   "source": [
    "import org.apache.spark.sql.functions._\n",
    "import org.apache.spark.sql.functions.col\n",
    "\n",
    "val ldata = spark.read.format(\"csv\").option(\"header\",\"true\").load(\"/Users/pulkit/data/london_crime_by_lsoa.csv\")"
   ]
  },
  {
   "cell_type": "code",
   "execution_count": 9,
   "metadata": {},
   "outputs": [
    {
     "name": "stdout",
     "output_type": "stream",
     "text": [
      "root\n",
      " |-- lsoa_code: string (nullable = true)\n",
      " |-- borough: string (nullable = true)\n",
      " |-- major_category: string (nullable = true)\n",
      " |-- minor_category: string (nullable = true)\n",
      " |-- value: string (nullable = true)\n",
      " |-- year: string (nullable = true)\n",
      " |-- month: string (nullable = true)\n",
      "\n"
     ]
    }
   ],
   "source": [
    "ldata.printSchema"
   ]
  },
  {
   "cell_type": "code",
   "execution_count": 10,
   "metadata": {},
   "outputs": [
    {
     "data": {
      "text/plain": [
       "13490604"
      ]
     },
     "execution_count": 10,
     "metadata": {},
     "output_type": "execute_result"
    }
   ],
   "source": [
    "ldata.count"
   ]
  },
  {
   "cell_type": "code",
   "execution_count": 17,
   "metadata": {},
   "outputs": [
    {
     "name": "stdout",
     "output_type": "stream",
     "text": [
      "+---------+----------+--------------------+--------------------+-----+----+-----+\n",
      "|lsoa_code|   borough|      major_category|      minor_category|value|year|month|\n",
      "+---------+----------+--------------------+--------------------+-----+----+-----+\n",
      "|E01001116|   Croydon|            Burglary|Burglary in Other...|    0|2016|   11|\n",
      "|E01001646| Greenwich|Violence Against ...|      Other violence|    0|2016|   11|\n",
      "|E01000677|   Bromley|Violence Against ...|      Other violence|    0|2015|    5|\n",
      "|E01003774| Redbridge|            Burglary|Burglary in Other...|    0|2016|    3|\n",
      "|E01004563|Wandsworth|             Robbery|   Personal Property|    0|2008|    6|\n",
      "+---------+----------+--------------------+--------------------+-----+----+-----+\n",
      "\n"
     ]
    }
   ],
   "source": [
    "ldata.limit(5).show"
   ]
  },
  {
   "cell_type": "code",
   "execution_count": 29,
   "metadata": {},
   "outputs": [],
   "source": [
    "val ldatana = ldata.drop(\"lsoa_code\")\n",
    "                    .na.drop(\"all\")\n",
    "                    .na.fill(\"Unknown\",Seq(\"major_category\"))"
   ]
  },
  {
   "cell_type": "code",
   "execution_count": 64,
   "metadata": {},
   "outputs": [
    {
     "name": "stdout",
     "output_type": "stream",
     "text": [
      "+----------+\n",
      "|   borough|\n",
      "+----------+\n",
      "|   Croydon|\n",
      "|Wandsworth|\n",
      "|    Bexley|\n",
      "+----------+\n",
      "only showing top 3 rows\n",
      "\n"
     ]
    }
   ],
   "source": [
    "val total_borough = ldatana.select(\"borough\").distinct().show(3)"
   ]
  },
  {
   "cell_type": "code",
   "execution_count": 58,
   "metadata": {},
   "outputs": [],
   "source": [
    "val years = List(\"2015\", \"2016\")\n",
    "val hackney_data = ldatana.where( col(\"borough\") === \"Hackney\" || col(\"year\").isin( years: _*))"
   ]
  },
  {
   "cell_type": "code",
   "execution_count": 60,
   "metadata": {},
   "outputs": [
    {
     "name": "stdout",
     "output_type": "stream",
     "text": [
      "+--------------------+--------------------+--------------------+-----+----+-----+\n",
      "|             borough|      major_category|      minor_category|value|year|month|\n",
      "+--------------------+--------------------+--------------------+-----+----+-----+\n",
      "|             Lambeth|Violence Against ...|      Other violence|    0|2015|    4|\n",
      "|           Southwark|               Drugs| Possession Of Drugs|    0|2015|    3|\n",
      "|              Newham|            Burglary|Burglary in Other...|    0|2015|    2|\n",
      "|Kingston upon Thames|  Theft and Handling|Motor Vehicle Int...|    0|2016|    5|\n",
      "|           Islington|     Sexual Offences|        Other Sexual|    0|2016|   10|\n",
      "|Hammersmith and F...|               Drugs| Possession Of Drugs|    1|2016|    2|\n",
      "|             Enfield|  Theft and Handling|Motor Vehicle Int...|    1|2015|    7|\n",
      "|             Bromley|     Criminal Damage|Criminal Damage T...|    0|2015|    9|\n",
      "|               Brent|Other Notifiable ...|    Other Notifiable|    0|2016|    4|\n",
      "|             Hackney|  Theft and Handling|  Other Theft Person|    0|2008|    8|\n",
      "|Hammersmith and F...|     Criminal Damage|Criminal Damage T...|    0|2015|    8|\n",
      "|             Bromley|               Drugs| Possession Of Drugs|    1|2016|    1|\n",
      "|           Greenwich|     Criminal Damage|Criminal Damage T...|    0|2016|   10|\n",
      "|          Wandsworth|Violence Against ...|          Harassment|    0|2016|   11|\n",
      "|           Redbridge|Other Notifiable ...|    Other Notifiable|    0|2016|    5|\n",
      "|              Bexley|  Theft and Handling|Theft/Taking Of M...|    0|2016|   11|\n",
      "|           Redbridge|  Theft and Handling|Motor Vehicle Int...|    0|2015|    6|\n",
      "|               Brent|            Burglary|Burglary in a Dwe...|    0|2016|    1|\n",
      "|Kingston upon Thames|  Theft and Handling|Motor Vehicle Int...|    1|2015|   12|\n",
      "|Barking and Dagenham|Violence Against ...|      Common Assault|    1|2016|    1|\n",
      "+--------------------+--------------------+--------------------+-----+----+-----+\n",
      "only showing top 20 rows\n",
      "\n"
     ]
    }
   ],
   "source": [
    "hackney_data.sample(fraction=0.1).show"
   ]
  },
  {
   "cell_type": "code",
   "execution_count": 105,
   "metadata": {},
   "outputs": [],
   "source": [
    "val boroughCrimeCount = ldatana.groupBy(\"borough\").count()"
   ]
  },
  {
   "cell_type": "code",
   "execution_count": 106,
   "metadata": {},
   "outputs": [
    {
     "name": "stdout",
     "output_type": "stream",
     "text": [
      "+----------+------+\n",
      "|   borough| count|\n",
      "+----------+------+\n",
      "|   Croydon|602100|\n",
      "|Wandsworth|498636|\n",
      "|    Bexley|385668|\n",
      "+----------+------+\n",
      "only showing top 3 rows\n",
      "\n"
     ]
    }
   ],
   "source": [
    "boroughCrimeCount.show(3)"
   ]
  },
  {
   "cell_type": "code",
   "execution_count": 143,
   "metadata": {},
   "outputs": [],
   "source": [
    "val boroughconvc = ldatana.groupBy(\"borough\").agg(\"value\" -> \"sum\").withColumnRenamed(\"sum(value)\",\"convictions\")"
   ]
  },
  {
   "cell_type": "code",
   "execution_count": 147,
   "metadata": {},
   "outputs": [
    {
     "data": {
      "text/plain": [
       "StructType(StructField(sum(convictions),DoubleType,true))"
      ]
     },
     "execution_count": 147,
     "metadata": {},
     "output_type": "execute_result"
    }
   ],
   "source": [
    "val tbc = boroughconvc.agg(sum(\"convictions\"))\n",
    "tbc.schema"
   ]
  },
  {
   "cell_type": "code",
   "execution_count": 119,
   "metadata": {},
   "outputs": [],
   "source": [
    "val totalConvictions = tbc.collect()(0)(0)"
   ]
  },
  {
   "cell_type": "code",
   "execution_count": 129,
   "metadata": {},
   "outputs": [],
   "source": [
    "val boroughPercentContribution = boroughconvc.\n",
    "                                withColumn(\"contribution\",round(col(\"convictions\") / totalConvictions * 100,2))\n",
    "                                "
   ]
  },
  {
   "cell_type": "code",
   "execution_count": 123,
   "metadata": {},
   "outputs": [
    {
     "name": "stdout",
     "output_type": "stream",
     "text": [
      "root\n",
      " |-- borough: string (nullable = true)\n",
      " |-- convictions: double (nullable = true)\n",
      " |-- contribution: double (nullable = true)\n",
      "\n"
     ]
    }
   ],
   "source": [
    "boroughPercentContribution.printSchema"
   ]
  },
  {
   "cell_type": "code",
   "execution_count": 139,
   "metadata": {},
   "outputs": [
    {
     "name": "stdout",
     "output_type": "stream",
     "text": [
      "+-------------+-----------+------------+\n",
      "|      borough|convictions|contribution|\n",
      "+-------------+-----------+------------+\n",
      "|  Westminster|   455028.0|        7.06|\n",
      "|      Lambeth|   292178.0|        4.53|\n",
      "|    Southwark|   278809.0|        4.32|\n",
      "|       Camden|   275147.0|        4.27|\n",
      "|       Newham|   262024.0|        4.06|\n",
      "|      Croydon|   260294.0|        4.04|\n",
      "|       Ealing|   251562.0|         3.9|\n",
      "|    Islington|   230286.0|        3.57|\n",
      "|Tower Hamlets|   228613.0|        3.55|\n",
      "|        Brent|   227551.0|        3.53|\n",
      "+-------------+-----------+------------+\n",
      "only showing top 10 rows\n",
      "\n"
     ]
    }
   ],
   "source": [
    "boroughPercentContribution.orderBy(col(\"convictions\").desc).show(10)"
   ]
  },
  {
   "cell_type": "code",
   "execution_count": 158,
   "metadata": {},
   "outputs": [],
   "source": [
    "val convictionsMonthly = ldatana.where(col(\"year\") === \"2014\").\n",
    "                                groupBy(\"month\").\n",
    "                                agg(sum(\"value\")).\n",
    "                                withColumnRenamed(\"sum(value)\",\"convictions\")"
   ]
  },
  {
   "cell_type": "code",
   "execution_count": 159,
   "metadata": {},
   "outputs": [],
   "source": [
    "val totalConvictionsMonthly = convictionsMonthly.agg(sum(\"convictions\")).collect()(0)(0)"
   ]
  },
  {
   "cell_type": "code",
   "execution_count": 160,
   "metadata": {},
   "outputs": [],
   "source": [
    "val toatalPercentContributionMon = convictionsMonthly.\n",
    "                                withColumn(\"percent\",round(col(\"convictions\") / totalConvictions * 100,2))"
   ]
  },
  {
   "cell_type": "code",
   "execution_count": 161,
   "metadata": {},
   "outputs": [
    {
     "data": {
      "text/plain": [
       "Array(month, convictions, percent)"
      ]
     },
     "execution_count": 161,
     "metadata": {},
     "output_type": "execute_result"
    }
   ],
   "source": [
    "toatalPercentContributionMon.columns"
   ]
  },
  {
   "cell_type": "code",
   "execution_count": 166,
   "metadata": {},
   "outputs": [
    {
     "name": "stdout",
     "output_type": "stream",
     "text": [
      "+-----+-----------+-------+\n",
      "|month|convictions|percent|\n",
      "+-----+-----------+-------+\n",
      "|   10|    60537.0|   0.94|\n",
      "|   11|    59704.0|   0.93|\n",
      "|    7|    58564.0|   0.91|\n",
      "|   12|    57565.0|   0.89|\n",
      "|    3|    57669.0|   0.89|\n",
      "|    6|    57039.0|   0.88|\n",
      "|    9|    56933.0|   0.88|\n",
      "|    5|    56327.0|   0.87|\n",
      "|    1|    55515.0|   0.86|\n",
      "|    8|    55641.0|   0.86|\n",
      "|    4|    53467.0|   0.83|\n",
      "|    2|    51222.0|   0.79|\n",
      "+-----+-----------+-------+\n",
      "\n"
     ]
    }
   ],
   "source": [
    "toatalPercentContributionMon.orderBy(col(\"percent\").desc).show"
   ]
  },
  {
   "cell_type": "code",
   "execution_count": 176,
   "metadata": {},
   "outputs": [
    {
     "name": "stdout",
     "output_type": "stream",
     "text": [
      "+---------+---------+\n",
      "|max(year)|min(year)|\n",
      "+---------+---------+\n",
      "|     2016|     2008|\n",
      "+---------+---------+\n",
      "\n"
     ]
    }
   ],
   "source": [
    "ldatana.select(\"year\").agg(max(\"year\"), min(\"year\")).show()"
   ]
  },
  {
   "cell_type": "code",
   "execution_count": 188,
   "metadata": {},
   "outputs": [
    {
     "name": "stdout",
     "output_type": "stream",
     "text": [
      "+-------+-----------------+------------------+\n",
      "|summary|             year|             value|\n",
      "+-------+-----------------+------------------+\n",
      "|  count|         13490604|          13490604|\n",
      "|   mean|           2012.0|0.4779443529733732|\n",
      "| stddev|2.581988993167432|1.7715128643049873|\n",
      "|    min|             2008|                 0|\n",
      "|    max|             2016|                99|\n",
      "+-------+-----------------+------------------+\n",
      "\n"
     ]
    }
   ],
   "source": [
    "ldatana.describe(\"year\",\"value\").show"
   ]
  },
  {
   "cell_type": "code",
   "execution_count": null,
   "metadata": {},
   "outputs": [],
   "source": []
  }
 ],
 "metadata": {
  "kernelspec": {
   "display_name": "Apache Toree - Scala",
   "language": "scala",
   "name": "apache_toree_scala"
  },
  "language_info": {
   "file_extension": ".scala",
   "name": "scala",
   "version": "2.11.8"
  }
 },
 "nbformat": 4,
 "nbformat_minor": 2
}
